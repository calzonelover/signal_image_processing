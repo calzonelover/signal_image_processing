{
 "cells": [
  {
   "cell_type": "code",
   "execution_count": 1,
   "metadata": {},
   "outputs": [],
   "source": [
    "from functools import reduce\n",
    "import math\n",
    "import cv2\n",
    "import numpy as np\n",
    "import matplotlib.pyplot as plt"
   ]
  },
  {
   "cell_type": "code",
   "execution_count": 2,
   "metadata": {},
   "outputs": [],
   "source": [
    "IMG_SIZE, BOX_SIZE = 100, 20"
   ]
  },
  {
   "cell_type": "code",
   "execution_count": 33,
   "metadata": {},
   "outputs": [],
   "source": [
    "def get_tshape_img(img_size: int = IMG_SIZE, box_size: int = BOX_SIZE) -> np.array:\n",
    "    _img = np.zeros(shape=(img_size, img_size), dtype=float)\n",
    "    \n",
    "    def assign_square(\n",
    "        __img, __ref_start_i, __ref_start_j,\n",
    "        __ref_stop_i, __ref_stop_j\n",
    "    ):\n",
    "        max_i = max(__ref_start_i, __ref_stop_i)\n",
    "        min_i = min(__ref_start_i, __ref_stop_i)\n",
    "        max_j = max(__ref_start_j, __ref_stop_j)\n",
    "        min_j = min(__ref_start_j, __ref_stop_j)\n",
    "        for i in range(min_i, max_i):\n",
    "            for j in range(min_j, max_j):\n",
    "                __img[i, j] = 1\n",
    "        return __img\n",
    "    \n",
    "    ## T-shape\n",
    "    _ref_start_j = int(img_size/2 - box_size/2)\n",
    "    _ref_start_i = int(img_size/5)\n",
    "    _ref_stop_j = int(img_size/2 + box_size/2)\n",
    "    _ref_stop_i = int(4*img_size/5)\n",
    "    _img = assign_square(_img, _ref_start_i, _ref_start_j, _ref_stop_i, _ref_stop_j)\n",
    "    \n",
    "    _ref_start_j = int(img_size/5)\n",
    "    _ref_start_i = int(img_size/5)\n",
    "    _ref_stop_j = int(4*img_size/5)\n",
    "    _ref_stop_i = int(2*img_size/5)\n",
    "    _img = assign_square(_img, _ref_start_i, _ref_start_j, _ref_stop_i, _ref_stop_j)\n",
    "    \n",
    "    ## Cross\n",
    "#     _img = assign_square(_img, 40, 10, 60, 90)\n",
    "#     _img = assign_square(_img, 10, 40, 90, 60)\n",
    "    \n",
    "    return _img"
   ]
  },
  {
   "cell_type": "code",
   "execution_count": 34,
   "metadata": {},
   "outputs": [],
   "source": [
    "def opening(_img: np.array, _kernel: np.array) -> np.array:\n",
    "    return cv2.dilate(\n",
    "        cv2.erode(\n",
    "            _img,\n",
    "            _kernel\n",
    "        )\n",
    "        , _kernel\n",
    "    )\n",
    "\n",
    "def skeleton_img(_img: np.array, kernel: np.array) -> np.array:\n",
    "    K = 0\n",
    "    skel = np.zeros(_img.shape,np.uint8)\n",
    "    while True:\n",
    "        s_k = np.maximum(\n",
    "            np.subtract(_img, opening(_img, kernel)),\n",
    "            0\n",
    "        )\n",
    "        skel = np.bitwise_or(skel.astype(bool), s_k.astype(bool)).astype(int)\n",
    "        _img = cv2.erode(_img, kernel)\n",
    "        K += 1\n",
    "        if cv2.countNonZero(_img) == 0:\n",
    "            print(f\"End K: {K}\")\n",
    "            break\n",
    "    return skel"
   ]
  },
  {
   "cell_type": "code",
   "execution_count": 35,
   "metadata": {
    "scrolled": false
   },
   "outputs": [
    {
     "name": "stdout",
     "output_type": "stream",
     "text": [
      "Kernel :\n",
      " [[1. 1. 1.]\n",
      " [1. 1. 1.]\n",
      " [1. 1. 1.]]\n",
      "End K: 10\n"
     ]
    },
    {
     "data": {
      "text/plain": [
       "<matplotlib.image.AxesImage at 0x7f8c168bfaf0>"
      ]
     },
     "execution_count": 35,
     "metadata": {},
     "output_type": "execute_result"
    },
    {
     "data": {
      "image/png": "[encoded data removed]",
      "text/plain": [
       "<Figure size 1440x720 with 2 Axes>"
      ]
     },
     "metadata": {
      "needs_background": "light"
     },
     "output_type": "display_data"
    }
   ],
   "source": [
    "tshape_img = get_tshape_img()\n",
    "# mykernel = cv2.getStructuringElement(cv2.MORPH_CROSS,(3,3))\n",
    "mykernel = np.ones((3,3))\n",
    "\n",
    "print(\"Kernel :\\n\", mykernel)\n",
    "skel_img = skeleton_img(tshape_img, mykernel)\n",
    "\n",
    "fig, axarr = plt.subplots(1,2, figsize = (20,10))\n",
    "axarr[0].imshow(tshape_img, cmap = 'gray')\n",
    "axarr[1].imshow(skel_img, cmap = 'gray')"
   ]
  },
  {
   "cell_type": "code",
   "execution_count": null,
   "metadata": {},
   "outputs": [],
   "source": []
  },
  {
   "cell_type": "code",
   "execution_count": null,
   "metadata": {},
   "outputs": [],
   "source": []
  }
 ],
 "metadata": {
  "kernelspec": {
   "display_name": "Python 3",
   "language": "python",
   "name": "python3"
  },
  "language_info": {
   "codemirror_mode": {
    "name": "ipython",
    "version": 3
   },
   "file_extension": ".py",
   "mimetype": "text/x-python",
   "name": "python",
   "nbconvert_exporter": "python",
   "pygments_lexer": "ipython3",
   "version": "3.8.3"
  }
 },
 "nbformat": 4,
 "nbformat_minor": 4
}
